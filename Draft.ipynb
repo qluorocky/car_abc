{
 "cells": [
  {
   "cell_type": "code",
   "execution_count": 1,
   "metadata": {},
   "outputs": [],
   "source": [
    "from scipy.stats import entropy\n",
    "import numpy as np\n",
    "import torch\n",
    "from torch.autograd import Variable\n",
    "from torch import nn\n"
   ]
  },
  {
   "cell_type": "code",
   "execution_count": 117,
   "metadata": {},
   "outputs": [],
   "source": [
    "def gen_data():\n",
    "    def f():\n",
    "        x = np.random.randint(2)\n",
    "        if x == 0:\n",
    "            if np.random.rand() > 0.5:\n",
    "                return 0, 0\n",
    "            else:\n",
    "                return 0,1\n",
    "        else:\n",
    "            if np.random.rand() > 0.5:\n",
    "                return 1, 0\n",
    "            else:\n",
    "                return 1,1\n",
    "    x,y = f()\n",
    "    x = torch.from_numpy(np.array(np.float32([x])))\n",
    "    y = torch.from_numpy(np.array(np.float32([y])))\n",
    "                    \n",
    "    return Variable(x),Variable(y)\n"
   ]
  },
  {
   "cell_type": "code",
   "execution_count": 88,
   "metadata": {},
   "outputs": [
    {
     "data": {
      "text/plain": [
       "(Variable containing:\n",
       "  1\n",
       " [torch.FloatTensor of size 1], Variable containing:\n",
       "  1\n",
       " [torch.FloatTensor of size 1])"
      ]
     },
     "execution_count": 88,
     "metadata": {},
     "output_type": "execute_result"
    }
   ],
   "source": [
    "gen_data()"
   ]
  },
  {
   "cell_type": "code",
   "execution_count": 89,
   "metadata": {},
   "outputs": [],
   "source": [
    "#loss = nn.CrossEntropyLoss()\n",
    "sig = nn.Sigmoid()\n",
    "W1 = Variable(torch.rand(1), requires_grad=True)\n",
    "b1 = Variable(torch.rand(1), requires_grad=True)\n",
    "W2 = Variable(torch.rand(1), requires_grad=True)\n",
    "b2 = Variable(torch.rand(1), requires_grad=True)"
   ]
  },
  {
   "cell_type": "code",
   "execution_count": 179,
   "metadata": {},
   "outputs": [
    {
     "data": {
      "text/plain": [
       "array([ 0.01,  0.03,  0.05,  0.07,  0.09,  0.11,  0.13,  0.15,  0.17,\n",
       "        0.19,  0.21,  0.23,  0.25,  0.27,  0.29,  0.31,  0.33,  0.35,\n",
       "        0.37,  0.39,  0.41,  0.43,  0.45,  0.47,  0.49,  0.51,  0.53,\n",
       "        0.55,  0.57,  0.59,  0.61,  0.63,  0.65,  0.67,  0.69,  0.71,\n",
       "        0.73,  0.75,  0.77,  0.79,  0.81,  0.83,  0.85,  0.87,  0.89,\n",
       "        0.91,  0.93,  0.95,  0.97,  0.99])"
      ]
     },
     "execution_count": 179,
     "metadata": {},
     "output_type": "execute_result"
    }
   ],
   "source": [
    "np.linspace(0.01, 0.99)"
   ]
  },
  {
   "cell_type": "code",
   "execution_count": 182,
   "metadata": {},
   "outputs": [
    {
     "data": {
      "image/png": "[encoded data removed]",
      "text/plain": [
       "<matplotlib.figure.Figure at 0x117d4aba8>"
      ]
     },
     "metadata": {},
     "output_type": "display_data"
    }
   ],
   "source": [
    "#y = 0.5\n",
    "import matplotlib.pyplot as plt\n",
    "for y_ in np.linspace(0.01, 0.99):\n",
    "    s = 0\n",
    "    for _ in range(10000):\n",
    "        y = int(np.random.rand() + 0.7)\n",
    "        s += -(y*np.log(y_) + (1-y)*np.log(1-y_)) \n",
    "    plt.plot(y_,s,'o')\n",
    "plt.show()"
   ]
  },
  {
   "cell_type": "code",
   "execution_count": 106,
   "metadata": {},
   "outputs": [],
   "source": [
    "def net(x,y):\n",
    "    y_ = W1*x + b1\n",
    "    y_ = sig(y_)\n",
    "    loss = -(y*torch.log(y_) + (1-y)*torch.log(1-y_))\n",
    "    #loss_fn = nn.MSELoss()\n",
    "    #loss = loss_fn(y_,y)\n",
    "    return y_, loss"
   ]
  },
  {
   "cell_type": "code",
   "execution_count": 140,
   "metadata": {},
   "outputs": [],
   "source": [
    "learning_rate = 1\n",
    "L = []\n",
    "for t in range(1,50000):\n",
    "#     batch_loss = Variable(torch.zeros(1), requires_grad=True)\n",
    "#     for _ in range(1000):\n",
    "#         x,y = gen_data()\n",
    "#         y_, loss = net(x,y)\n",
    "#         batch_loss = batch_loss + loss \n",
    "#     print(batch_loss.data.numpy())\n",
    "#     batch_loss.backward()\n",
    "    x,y = gen_data()\n",
    "    y_, loss = net(x,y)\n",
    "    loss.backward()\n",
    "    W1.data -= learning_rate * W1.grad.data\n",
    "    b1.data -= learning_rate * b1.grad.data\n",
    "    W1.grad.data.zero_()\n",
    "    b1.grad.data.zero_()"
   ]
  },
  {
   "cell_type": "code",
   "execution_count": 146,
   "metadata": {},
   "outputs": [
    {
     "name": "stdout",
     "output_type": "stream",
     "text": [
      "Variable containing:\n",
      " 0\n",
      "[torch.FloatTensor of size 1]\n",
      " Variable containing:\n",
      " 1\n",
      "[torch.FloatTensor of size 1]\n",
      " Variable containing:\n",
      " 0.8621\n",
      "[torch.FloatTensor of size 1]\n",
      "\n"
     ]
    }
   ],
   "source": [
    "x,y = gen_data()\n",
    "y_, loss = net(x,y)\n",
    "print(x,y,y_) "
   ]
  },
  {
   "cell_type": "code",
   "execution_count": null,
   "metadata": {},
   "outputs": [],
   "source": []
  }
 ],
 "metadata": {
  "kernelspec": {
   "display_name": "TF",
   "language": "python",
   "name": "tf"
  },
  "language_info": {
   "codemirror_mode": {
    "name": "ipython",
    "version": 3
   },
   "file_extension": ".py",
   "mimetype": "text/x-python",
   "name": "python",
   "nbconvert_exporter": "python",
   "pygments_lexer": "ipython3",
   "version": "3.6.3"
  }
 },
 "nbformat": 4,
 "nbformat_minor": 2
}
