{
 "cells": [
  {
   "cell_type": "code",
   "execution_count": 1,
   "metadata": {},
   "outputs": [],
   "source": [
    "import numpy as np\n",
    "import networkx as nx\n",
    "import torch\n",
    "import time\n",
    "from sklearn.preprocessing import OneHotEncoder\n",
    "from torch.autograd import Variable\n",
    "from torch import nn\n",
    "import matplotlib.pyplot as plt"
   ]
  },
  {
   "cell_type": "markdown",
   "metadata": {},
   "source": [
    "In this part, we focus on a simple road map (rep as a graph below), and generate random path on it.\n",
    "<img src=\"img/naive_road.png\" alt=\"Drawing\" style=\"width: 400px;\"/>"
   ]
  },
  {
   "cell_type": "code",
   "execution_count": 2,
   "metadata": {},
   "outputs": [],
   "source": [
    "def one_hot(x, N = 24):\n",
    "    l = np.zeros(24)\n",
    "    l[x] = 1\n",
    "    return l\n",
    "def inv_one_hot(l, N = 24):\n",
    "    return np.argmax(l)"
   ]
  },
  {
   "cell_type": "code",
   "execution_count": 3,
   "metadata": {},
   "outputs": [],
   "source": [
    "def build_graph():\n",
    "    G=nx.Graph()\n",
    "    G.add_nodes_from(range(24))\n",
    "    G.add_edges_from([(i, i+1) for i in range(5)] \n",
    "                     + [(i+6, i+7) for i in range(5)] \n",
    "                     +[(i+12, i+13) for i in range(5)]\n",
    "                     + [(i+18, i+19) for i in range(5)]\n",
    "                     + [(0,6),(6,12), (12,18)]\n",
    "                     + [(pair[0]+1, pair[1]+1) for pair in [(0,6),(6,12), (12,18)]]\n",
    "                     + [(pair[0]+2, pair[1]+2) for pair in [(0,6),(6,12), (12,18)]]\n",
    "                     + [(pair[0]+3, pair[1]+3) for pair in [(0,6),(6,12), (12,18)]]\n",
    "                     + [(pair[0]+4, pair[1]+4) for pair in [(0,6),(6,12), (12,18)]]\n",
    "                     + [(pair[0]+5, pair[1]+5) for pair in [(0,6),(6,12), (12,18)]]\n",
    "                     )\n",
    "    return G"
   ]
  },
  {
   "cell_type": "code",
   "execution_count": 4,
   "metadata": {},
   "outputs": [],
   "source": [
    "# gloable env\n",
    "G = build_graph() \n",
    "N = len(G.node)"
   ]
  },
  {
   "cell_type": "code",
   "execution_count": 5,
   "metadata": {},
   "outputs": [],
   "source": [
    "def random_path(start = None, stop_prob = 0.1):\n",
    "    \"\"\"\n",
    "    Generate (hist dependent) random path on graph G with lenght at least 2, encode each road in one-hot fashion\n",
    "    \"\"\"\n",
    "    if not start:\n",
    "        start = np.random.choice(24)\n",
    "    path = [start]\n",
    "    prev = None\n",
    "    while True:\n",
    "        neighbors = list(G.neighbors(start))\n",
    "        if prev:\n",
    "            neighbors.remove(prev)\n",
    "        nxt = np.random.choice(neighbors)\n",
    "        path.append(nxt)\n",
    "        prev = start\n",
    "        start = nxt\n",
    "        if np.random.rand() < stop_prob:\n",
    "            break\n",
    "    return np.array(path)"
   ]
  },
  {
   "cell_type": "code",
   "execution_count": 6,
   "metadata": {},
   "outputs": [
    {
     "name": "stdout",
     "output_type": "stream",
     "text": [
      "[11 10  9 15 16 22 21 15 14  8  2  1  7  6 12 18]\n"
     ]
    }
   ],
   "source": [
    "p = random_path()\n",
    "print(p)"
   ]
  },
  {
   "cell_type": "code",
   "execution_count": 7,
   "metadata": {},
   "outputs": [],
   "source": [
    "def random_training_set():\n",
    "    def f(x):\n",
    "        if x == -1:\n",
    "            return 0\n",
    "        if x == -6:\n",
    "            return 1\n",
    "        if x == 1:\n",
    "            return 2\n",
    "        if x == 6:\n",
    "            return 3\n",
    "    path = random_path()\n",
    "    inp = torch.from_numpy(np.float32(np.array([one_hot(p) for p in path[:-1]])))\n",
    "    #import pdb; pdb.set_trace()\n",
    "    tar = [f(x) for x in path[1:] - path[:-1]]\n",
    "    tar = torch.from_numpy(np.array(tar))\n",
    "    return Variable(inp).contiguous(), Variable(tar).contiguous()"
   ]
  },
  {
   "cell_type": "code",
   "execution_count": 8,
   "metadata": {},
   "outputs": [
    {
     "name": "stdout",
     "output_type": "stream",
     "text": [
      "x: [15, 9, 10, 11] is the sequence of road\n",
      "y: [1 2 2 3] denotes the turning decistion at each road\n"
     ]
    }
   ],
   "source": [
    "x,y = random_training_set()\n",
    "print('x: {} is the sequence of road'.format([inv_one_hot(r) for r in x.data.numpy()]))\n",
    "print('y: {} denotes the turning decistion at each road'.format(y.data.numpy()))"
   ]
  },
  {
   "cell_type": "code",
   "execution_count": 9,
   "metadata": {},
   "outputs": [
    {
     "data": {
      "text/plain": [
       "torch.Size([4, 24])"
      ]
     },
     "execution_count": 9,
     "metadata": {},
     "output_type": "execute_result"
    }
   ],
   "source": [
    "x.size()"
   ]
  },
  {
   "cell_type": "markdown",
   "metadata": {},
   "source": [
    "Since we know the road transition are markov (turing decision only depends on current road), let start with *none-recurrent nn* to fit our transition"
   ]
  },
  {
   "cell_type": "code",
   "execution_count": 10,
   "metadata": {},
   "outputs": [
    {
     "name": "stdout",
     "output_type": "stream",
     "text": [
      "0 1.38114690781\n",
      "1000 1.35140927243\n",
      "2000 1.33301620263\n",
      "3000 1.33315615296\n",
      "4000 1.33078861767\n",
      "5000 1.32967023289\n",
      "6000 1.33005973268\n",
      "7000 1.32692051202\n",
      "8000 1.32590233856\n",
      "9000 1.32463343316\n",
      "10000 1.32579139608\n",
      "11000 1.32360570788\n",
      "12000 1.32427185416\n",
      "13000 1.32487459326\n",
      "14000 1.322965734\n",
      "15000 1.32493304294\n",
      "16000 1.32282043344\n",
      "17000 1.32387889814\n",
      "18000 1.3248312844\n",
      "19000 1.32466875798\n",
      "20000 1.3243188622\n",
      "21000 1.32348152477\n",
      "22000 1.32424427032\n",
      "23000 1.32434571075\n",
      "24000 1.31884635252\n",
      "25000 1.32293784672\n",
      "26000 1.32197898549\n",
      "27000 1.32298615849\n",
      "28000 1.32584601378\n",
      "29000 1.32265436441\n",
      "30000 1.32368558639\n",
      "31000 1.32451673508\n",
      "32000 1.32343172765\n",
      "33000 1.32197354162\n",
      "34000 1.3234498297\n",
      "35000 1.32258604032\n",
      "36000 1.3231948024\n",
      "37000 1.32299002028\n",
      "38000 1.32473841596\n",
      "39000 1.32514066863\n"
     ]
    }
   ],
   "source": [
    "N_batch, D_in, D_hidden, D_out = 50, 24, 100, 4\n",
    "model = torch.nn.Sequential(\n",
    "    torch.nn.Linear(D_in, D_hidden),\n",
    "    torch.nn.ReLU(),\n",
    "    torch.nn.Linear(D_hidden, D_out),\n",
    "    torch.nn.Softmax(dim = 1),\n",
    ")\n",
    "loss_fn = torch.nn.CrossEntropyLoss()\n",
    "learning_rate = 0.002\n",
    "optimizer = torch.optim.Adam(model.parameters(), lr=learning_rate)\n",
    "L = 0\n",
    "n = 0\n",
    "pts = {'x':[], 'y':[]}\n",
    "for t in range(40000):\n",
    "    x,y = random_training_set()\n",
    "    y_pred = model(x)\n",
    "    loss = loss_fn(y_pred, y)\n",
    "    L += sum(loss.data.numpy())\n",
    "    n += len(loss.data.numpy())\n",
    "    if t%1000 == 0:\n",
    "        pts['x'].append(t)\n",
    "        pts['y'].append(L/n)\n",
    "        print(t, L/n)\n",
    "        L = 0\n",
    "        n = 0\n",
    "    optimizer.zero_grad()\n",
    "    loss.backward()\n",
    "    optimizer.step()\n"
   ]
  },
  {
   "cell_type": "code",
   "execution_count": 11,
   "metadata": {},
   "outputs": [
    {
     "data": {
      "text/plain": [
       "[<matplotlib.lines.Line2D at 0x11209dcc0>]"
      ]
     },
     "execution_count": 11,
     "metadata": {},
     "output_type": "execute_result"
    },
    {
     "data": {
      "image/png": "[encoded data removed]",
      "text/plain": [
       "<matplotlib.figure.Figure at 0x112031588>"
      ]
     },
     "metadata": {},
     "output_type": "display_data"
    }
   ],
   "source": [
    "plt.plot(pts['x'],pts['y'])"
   ]
  },
  {
   "cell_type": "code",
   "execution_count": 12,
   "metadata": {},
   "outputs": [
    {
     "name": "stdout",
     "output_type": "stream",
     "text": [
      "[10, 4, 5, 11, 10, 16]\n"
     ]
    },
    {
     "data": {
      "text/plain": [
       "Variable containing:\n",
       " 0.2651  0.2600  0.2330  0.2419\n",
       " 0.4092  0.0000  0.3269  0.2639\n",
       " 0.5015  0.0003  0.0000  0.4982\n",
       " 0.3330  0.3372  0.0000  0.3297\n",
       " 0.2651  0.2600  0.2330  0.2419\n",
       " 0.2576  0.2648  0.2443  0.2334\n",
       "[torch.FloatTensor of size 6x4]"
      ]
     },
     "execution_count": 12,
     "metadata": {},
     "output_type": "execute_result"
    }
   ],
   "source": [
    "x,y = random_training_set()\n",
    "print([inv_one_hot(r) for r in x.data.numpy()])\n",
    "model(x)"
   ]
  },
  {
   "cell_type": "markdown",
   "metadata": {},
   "source": [
    "Clearly, the naive nn is not enough.\n",
    "# RNN for Tracking the History"
   ]
  },
  {
   "cell_type": "code",
   "execution_count": 13,
   "metadata": {},
   "outputs": [],
   "source": [
    "class RNN(nn.Module):\n",
    "    def __init__(self, input_size, hidden_size, output_size, n_layers=1):\n",
    "        super(RNN, self).__init__()\n",
    "        self.input_size = input_size\n",
    "        self.hidden_size = hidden_size\n",
    "        self.output_size = output_size\n",
    "        self.n_layers = n_layers\n",
    "        self.gru = nn.GRU(input_size, hidden_size, n_layers)\n",
    "        self.lin = nn.Linear(hidden_size, output_size)\n",
    "        self.sm = nn.Softmax(dim = 2)\n",
    "        \n",
    "        hidden0 = torch.zeros(n_layers, 1, hidden_size)\n",
    "        self.hidden0 = nn.Parameter(hidden0, requires_grad=True)\n",
    "    \n",
    "    def forward(self, inp, hidden):\n",
    "        output, hidden = self.gru(inp.view(1, 1, self.input_size), hidden)\n",
    "        output = self.lin(output) \n",
    "        output = self.sm(output)\n",
    "        return output, hidden\n",
    "    \n",
    "    def init_hidden(self):\n",
    "        return self.hidden0\n",
    "    #def init_hidden(self):\n",
    "    #    return Variable(torch.zeros(self.n_layers, 1, self.hidden_size))"
   ]
  },
  {
   "cell_type": "code",
   "execution_count": null,
   "metadata": {},
   "outputs": [],
   "source": [
    "def train(inp, target):\n",
    "    hidden = rnn.init_hidden() \n",
    "    rnn.zero_grad()\n",
    "    hat = []\n",
    "    for i in range(len(inp)):\n",
    "        output, hidden = rnn(inp[i,:], hidden)\n",
    "        hat.append(output.view(-1,4))\n",
    "    pred = torch.cat(hat)\n",
    "    loss = loss_fn(pred, target)\n",
    "    rnn_optimizer.zero_grad()\n",
    "    loss.backward()\n",
    "    rnn_optimizer.step()\n",
    "    return pred, loss.data[0]"
   ]
  },
  {
   "cell_type": "code",
   "execution_count": null,
   "metadata": {},
   "outputs": [],
   "source": [
    "N_batch, D_in, D_hidden, D_out = 50, 24, 200, 4\n",
    "rnn = RNN(D_in, D_hidden, D_out, n_layers = 1)\n",
    "loss_fn = torch.nn.CrossEntropyLoss()\n",
    "learning_rate = 0.0002\n",
    "rnn_optimizer = torch.optim.Adam(rnn.parameters(), lr=learning_rate)\n",
    "L = 0\n",
    "pts = {'x':[], 'y':[]}\n",
    "for t in range(1,400001):\n",
    "    x,y = random_training_set()\n",
    "    _, loss = train(x,y)\n",
    "    \n",
    "    L += loss\n",
    "    if t%10000 == 0:\n",
    "        pts['x'].append(t)\n",
    "        pts['y'].append(L/10000)\n",
    "        print(t, L/10000)\n",
    "        L = 0"
   ]
  },
  {
   "cell_type": "code",
   "execution_count": null,
   "metadata": {},
   "outputs": [],
   "source": [
    "plt.plot(pts['x'],pts['y'])"
   ]
  },
  {
   "cell_type": "code",
   "execution_count": null,
   "metadata": {},
   "outputs": [],
   "source": [
    "x,y = random_training_set()\n",
    "pred,_ = train(x,y)\n",
    "print([inv_one_hot(r) for r in x.data.numpy()])\n",
    "print(pred)"
   ]
  },
  {
   "cell_type": "code",
   "execution_count": null,
   "metadata": {},
   "outputs": [],
   "source": []
  },
  {
   "cell_type": "code",
   "execution_count": null,
   "metadata": {},
   "outputs": [],
   "source": [
    "n_epochs = 1000\n",
    "print_every = 100\n",
    "#plot_every = 10\n",
    "input_size = 24 # one hot encoding for 24 node in the graph\n",
    "hidden_size = 200\n",
    "output_size = 4 #?? distriubtuion for 4 exits??\n",
    "n_layers = 2\n",
    "lr = 0.005\n",
    "\n",
    "rnn = RNN(input_size, hidden_size, output_size, n_layers)\n",
    "rnn_optimizer = torch.optim.Adam(rnn.parameters(), lr=lr)\n",
    "criterion = nn.CrossEntropyLoss()\n",
    "\n",
    "start = time.time()\n",
    "all_losses = []\n",
    "loss_avg = 0\n",
    "\n",
    "for epoch in range(1, n_epochs + 1):\n",
    "    loss = train(*random_training_set())       \n",
    "    loss_avg += loss\n",
    "\n",
    "    if epoch % print_every == 0:\n",
    "        print('[(%d %d%%) %.4f]' % (epoch, epoch / n_epochs * 100, loss))"
   ]
  },
  {
   "cell_type": "code",
   "execution_count": null,
   "metadata": {},
   "outputs": [],
   "source": [
    "def generate(start):\n",
    "    hidden = rnn.init_hidden()\n",
    "    inp = start\n",
    "    predicted = inp.data.view(1,2)\n",
    "    \n",
    "    for i in range(1, 1000):\n",
    "        output, hidden = rnn(inp, hidden)\n",
    "        predicted = torch.cat([predicted, output.data.view(1,2)])\n",
    "        inp = output\n",
    "    return predicted"
   ]
  },
  {
   "cell_type": "code",
   "execution_count": null,
   "metadata": {},
   "outputs": [],
   "source": [
    "x,y = random_training_set()"
   ]
  },
  {
   "cell_type": "code",
   "execution_count": null,
   "metadata": {},
   "outputs": [],
   "source": [
    "hidden = rnn.init_hidden()\n",
    "o,h = rnn(x[0], hidden)\n",
    "print(o)"
   ]
  },
  {
   "cell_type": "code",
   "execution_count": null,
   "metadata": {},
   "outputs": [],
   "source": [
    "from sklearn."
   ]
  }
 ],
 "metadata": {
  "kernelspec": {
   "display_name": "TF",
   "language": "python",
   "name": "tf"
  },
  "language_info": {
   "codemirror_mode": {
    "name": "ipython",
    "version": 3
   },
   "file_extension": ".py",
   "mimetype": "text/x-python",
   "name": "python",
   "nbconvert_exporter": "python",
   "pygments_lexer": "ipython3",
   "version": "3.6.3"
  }
 },
 "nbformat": 4,
 "nbformat_minor": 2
}
