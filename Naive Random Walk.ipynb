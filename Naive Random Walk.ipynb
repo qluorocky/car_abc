{
 "cells": [
  {
   "cell_type": "code",
   "execution_count": 45,
   "metadata": {},
   "outputs": [],
   "source": [
    "import numpy as np\n",
    "import networkx as nx\n",
    "import torch\n",
    "import time\n",
    "from sklearn.preprocessing import OneHotEncoder\n",
    "from torch.autograd import Variable\n",
    "from torch import nn\n",
    "import matplotlib.pyplot as plt\n",
    "from torch import autograd\n"
   ]
  },
  {
   "cell_type": "markdown",
   "metadata": {},
   "source": [
    "In this part, we focus on a simple road map (rep as a graph below), and generate random path on it.\n",
    "<img src=\"img/naive_road.png\" alt=\"Drawing\" style=\"width: 400px;\"/>"
   ]
  },
  {
   "cell_type": "code",
   "execution_count": 9,
   "metadata": {},
   "outputs": [],
   "source": [
    "def one_hot(x, N = 24):\n",
    "    l = np.zeros(24)\n",
    "    l[x] = 1\n",
    "    return l\n",
    "def inv_one_hot(l, N = 24):\n",
    "    return np.argmax(l)"
   ]
  },
  {
   "cell_type": "code",
   "execution_count": 10,
   "metadata": {},
   "outputs": [],
   "source": [
    "def build_graph():\n",
    "    G=nx.Graph()\n",
    "    G.add_nodes_from(range(24))\n",
    "    G.add_edges_from([(i, i+1) for i in range(5)] \n",
    "                     + [(i+6, i+7) for i in range(5)] \n",
    "                     +[(i+12, i+13) for i in range(5)]\n",
    "                     + [(i+18, i+19) for i in range(5)]\n",
    "                     + [(0,6),(6,12), (12,18)]\n",
    "                     + [(pair[0]+1, pair[1]+1) for pair in [(0,6),(6,12), (12,18)]]\n",
    "                     + [(pair[0]+2, pair[1]+2) for pair in [(0,6),(6,12), (12,18)]]\n",
    "                     + [(pair[0]+3, pair[1]+3) for pair in [(0,6),(6,12), (12,18)]]\n",
    "                     + [(pair[0]+4, pair[1]+4) for pair in [(0,6),(6,12), (12,18)]]\n",
    "                     + [(pair[0]+5, pair[1]+5) for pair in [(0,6),(6,12), (12,18)]]\n",
    "                     )\n",
    "    return G"
   ]
  },
  {
   "cell_type": "code",
   "execution_count": 11,
   "metadata": {},
   "outputs": [],
   "source": [
    "# gloable env\n",
    "G = build_graph() \n",
    "N = len(G.node)"
   ]
  },
  {
   "cell_type": "code",
   "execution_count": 12,
   "metadata": {},
   "outputs": [],
   "source": [
    "def random_path(start = None, stop_prob = 0.1):\n",
    "    \"\"\"\n",
    "    Generate random path on graph G with lenght at least 2, encode each road in one-hot fashion\n",
    "    \"\"\"\n",
    "    if not start:\n",
    "        start = np.random.choice(24)\n",
    "    path = [start]\n",
    "    while True:\n",
    "        nxt = np.random.choice(list(G.neighbors(start)))\n",
    "        path.append(nxt)\n",
    "        start = nxt\n",
    "        if np.random.rand() < stop_prob:\n",
    "            break\n",
    "    return np.array(path)"
   ]
  },
  {
   "cell_type": "code",
   "execution_count": 29,
   "metadata": {},
   "outputs": [
    {
     "name": "stdout",
     "output_type": "stream",
     "text": [
      "[ 1  2  1  2  8  9 15 14 13 14  8  9 10  4]\n"
     ]
    }
   ],
   "source": [
    "p = random_path()\n",
    "print(p)"
   ]
  },
  {
   "cell_type": "code",
   "execution_count": 30,
   "metadata": {},
   "outputs": [],
   "source": [
    "def random_training_set():\n",
    "    def f(x):\n",
    "        if x == -1:\n",
    "            return 0\n",
    "        if x == -6:\n",
    "            return 1\n",
    "        if x == 1:\n",
    "            return 2\n",
    "        if x == 6:\n",
    "            return 3\n",
    "    path = random_path()\n",
    "    inp = torch.from_numpy(np.float32(np.array([one_hot(p) for p in path[:-1]])))\n",
    "    #import pdb; pdb.set_trace()\n",
    "    tar = [f(x) for x in path[1:] - path[:-1]]\n",
    "    tar = torch.from_numpy(np.array(tar))\n",
    "    return Variable(inp).contiguous(), Variable(tar).contiguous()"
   ]
  },
  {
   "cell_type": "code",
   "execution_count": 53,
   "metadata": {},
   "outputs": [],
   "source": [
    "def random_training_set_with_road_tar():\n",
    "    path = random_path()\n",
    "    inp = torch.from_numpy(np.float32(np.array([one_hot(p) for p in path[:-1]])))\n",
    "    tar = torch.from_numpy(np.array(path[1:]))\n",
    "    return Variable(inp).contiguous(), Variable(tar).contiguous()"
   ]
  },
  {
   "cell_type": "code",
   "execution_count": 37,
   "metadata": {},
   "outputs": [
    {
     "name": "stdout",
     "output_type": "stream",
     "text": [
      "x: [21, 15, 21, 15, 16, 17, 23, 22, 16, 17, 11, 10, 11, 5, 4, 5, 11] is the sequence of road\n",
      "y: [1 3 1 2 2 3 0 1 2 1 0 2 1 0 2 3 3] denotes the turning decistion at each road\n"
     ]
    }
   ],
   "source": [
    "x,y = random_training_set()\n",
    "print('x: {} is the sequence of road'.format([inv_one_hot(r) for r in x.data.numpy()]))\n",
    "print('y: {} denotes the turning decistion at each road'.format(y.data.numpy()))"
   ]
  },
  {
   "cell_type": "code",
   "execution_count": 54,
   "metadata": {},
   "outputs": [
    {
     "name": "stdout",
     "output_type": "stream",
     "text": [
      "x: [19, 18, 12, 18] is the sequence of road\n",
      "y: [18 12 18 19] is the sequence of road\n"
     ]
    }
   ],
   "source": [
    "x,y = random_training_set_with_road_tar()\n",
    "print('x: {} is the sequence of road'.format([inv_one_hot(r) for r in x.data.numpy()]))\n",
    "print('y: {} is the sequence of road'.format(y.data.numpy()))"
   ]
  },
  {
   "cell_type": "code",
   "execution_count": 28,
   "metadata": {},
   "outputs": [
    {
     "data": {
      "text/plain": [
       "torch.Size([3, 24])"
      ]
     },
     "execution_count": 28,
     "metadata": {},
     "output_type": "execute_result"
    }
   ],
   "source": [
    "x.size()"
   ]
  },
  {
   "cell_type": "markdown",
   "metadata": {},
   "source": [
    "Since we know the road transition are markov (turing decision only depends on current road), let start with *none-recurrent nn* to fit our transition"
   ]
  },
  {
   "cell_type": "code",
   "execution_count": 34,
   "metadata": {},
   "outputs": [
    {
     "name": "stdout",
     "output_type": "stream",
     "text": [
      "1000 1.34930958652\n",
      "2000 1.33486124539\n",
      "3000 1.33295213771\n",
      "4000 1.33023302251\n",
      "5000 1.33089588231\n",
      "6000 1.32499839681\n",
      "7000 1.33148761064\n",
      "8000 1.32549153697\n",
      "9000 1.32516176957\n",
      "10000 1.32806896353\n",
      "11000 1.32688594347\n",
      "12000 1.32733261585\n",
      "13000 1.3273271637\n",
      "14000 1.32677630472\n",
      "15000 1.3274006238\n",
      "16000 1.32643326986\n",
      "17000 1.32522372437\n",
      "18000 1.32791907644\n",
      "19000 1.3257893461\n",
      "20000 1.32402183676\n",
      "21000 1.32615646923\n",
      "22000 1.32490739322\n",
      "23000 1.3251738348\n",
      "24000 1.32576821911\n",
      "25000 1.32154965889\n",
      "26000 1.32808812869\n",
      "27000 1.3222162075\n",
      "28000 1.32186228645\n",
      "29000 1.32248628068\n",
      "30000 1.32288641453\n",
      "31000 1.32462305331\n",
      "32000 1.32343855703\n",
      "33000 1.32430543184\n",
      "34000 1.32195827973\n",
      "35000 1.32354878688\n",
      "36000 1.32241541696\n",
      "37000 1.32530014467\n",
      "38000 1.32341906118\n",
      "39000 1.32362381232\n",
      "40000 1.32523345554\n"
     ]
    }
   ],
   "source": [
    "N_batch, D_in, D_hidden, D_out = 50, 24, 100, 4\n",
    "model = torch.nn.Sequential(\n",
    "    torch.nn.Linear(D_in, D_hidden),\n",
    "    torch.nn.ReLU(),\n",
    "    torch.nn.Linear(D_hidden, D_out),\n",
    "    torch.nn.Softmax(dim = 1),\n",
    ")\n",
    "loss_fn = torch.nn.CrossEntropyLoss()\n",
    "learning_rate = 0.002\n",
    "optimizer = torch.optim.Adam(model.parameters(), lr=learning_rate)\n",
    "L = 0\n",
    "n = 0\n",
    "pts = {'x':[], 'y':[]}\n",
    "for t in range(1,40001):\n",
    "    x,y = random_training_set()\n",
    "    y_pred = model(x)\n",
    "    loss = loss_fn(y_pred, y)\n",
    "    L += sum(loss.data.numpy())\n",
    "    n += len(loss.data.numpy())\n",
    "    if t%1000 == 0:\n",
    "        pts['x'].append(t)\n",
    "        pts['y'].append(L/n)\n",
    "        print(t, L/n)\n",
    "        L = 0\n",
    "        n = 0\n",
    "    optimizer.zero_grad()\n",
    "    loss.backward()\n",
    "    optimizer.step()\n"
   ]
  },
  {
   "cell_type": "code",
   "execution_count": 167,
   "metadata": {},
   "outputs": [
    {
     "data": {
      "text/plain": [
       "[<matplotlib.lines.Line2D at 0x111affa58>]"
      ]
     },
     "execution_count": 167,
     "metadata": {},
     "output_type": "execute_result"
    },
    {
     "data": {
      "image/png": "[encoded data removed]",
      "text/plain": [
       "<matplotlib.figure.Figure at 0x111485518>"
      ]
     },
     "metadata": {},
     "output_type": "display_data"
    }
   ],
   "source": [
    "plt.plot(pts['x'],pts['y'])"
   ]
  },
  {
   "cell_type": "code",
   "execution_count": 35,
   "metadata": {},
   "outputs": [
    {
     "name": "stdout",
     "output_type": "stream",
     "text": [
      "[16, 17, 11, 17]\n"
     ]
    },
    {
     "data": {
      "text/plain": [
       "Variable containing:\n",
       " 0.2316  0.2603  0.2466  0.2615\n",
       " 0.3101  0.3435  0.0003  0.3462\n",
       " 0.3137  0.3652  0.0000  0.3212\n",
       " 0.3101  0.3435  0.0003  0.3462\n",
       "[torch.FloatTensor of size 4x4]"
      ]
     },
     "execution_count": 35,
     "metadata": {},
     "output_type": "execute_result"
    }
   ],
   "source": [
    "x,y = random_training_set()\n",
    "print([inv_one_hot(r) for r in x.data.numpy()])\n",
    "model(x)"
   ]
  },
  {
   "cell_type": "code",
   "execution_count": 55,
   "metadata": {},
   "outputs": [
    {
     "name": "stdout",
     "output_type": "stream",
     "text": [
      "1000 2.97760281563\n",
      "2000 2.91700273299\n",
      "3000 2.92992539382\n",
      "4000 2.91718449593\n",
      "5000 2.92533947349\n",
      "6000 2.92036879992\n",
      "7000 2.90626250553\n",
      "8000 2.93216746497\n",
      "9000 2.91581888652\n",
      "10000 2.91912127399\n",
      "11000 2.91563740802\n",
      "12000 2.91963133335\n",
      "13000 2.92020012093\n",
      "14000 2.91498957253\n",
      "15000 2.91535791302\n",
      "16000 2.91448263931\n",
      "17000 2.91123799849\n",
      "18000 2.92018643141\n",
      "19000 2.92073032689\n",
      "20000 2.91078437591\n",
      "21000 2.91839484549\n",
      "22000 2.90709405303\n",
      "23000 2.91134590816\n",
      "24000 2.91775816298\n",
      "25000 2.91062480426\n",
      "26000 2.91006576872\n",
      "27000 2.91398421502\n",
      "28000 2.90791724896\n",
      "29000 2.91179870844\n",
      "30000 2.909815763\n",
      "31000 2.91398928905\n",
      "32000 2.90989645672\n",
      "33000 2.9068295784\n",
      "34000 2.90682117033\n",
      "35000 2.90661678171\n",
      "36000 2.90852116871\n",
      "37000 2.91106318307\n",
      "38000 2.90966106319\n",
      "39000 2.90774837184\n",
      "40000 2.90353099585\n"
     ]
    }
   ],
   "source": [
    "N_batch, D_in, D_hidden, D_out = 50, 24, 100, 24\n",
    "model = torch.nn.Sequential(\n",
    "    torch.nn.Linear(D_in, D_hidden),\n",
    "    torch.nn.ReLU(),\n",
    "    torch.nn.Linear(D_hidden, D_out),\n",
    "    torch.nn.Softmax(dim = 1),\n",
    ")\n",
    "loss_fn = torch.nn.CrossEntropyLoss()\n",
    "learning_rate = 0.002\n",
    "optimizer = torch.optim.Adam(model.parameters(), lr=learning_rate)\n",
    "L = 0\n",
    "n = 0\n",
    "pts = {'x':[], 'y':[]}\n",
    "for t in range(1,40001):\n",
    "    x,y = random_training_set_with_road_tar()\n",
    "    y_pred = model(x)\n",
    "    loss = loss_fn(y_pred, y)\n",
    "    L += sum(loss.data.numpy())\n",
    "    n += len(loss.data.numpy())\n",
    "    if t%1000 == 0:\n",
    "        pts['x'].append(t)\n",
    "        pts['y'].append(L/n)\n",
    "        print(t, L/n)\n",
    "        L = 0\n",
    "        n = 0\n",
    "    optimizer.zero_grad()\n",
    "    loss.backward()\n",
    "    optimizer.step()\n"
   ]
  },
  {
   "cell_type": "code",
   "execution_count": 68,
   "metadata": {},
   "outputs": [
    {
     "name": "stdout",
     "output_type": "stream",
     "text": [
      "[1, 2, 1, 2, 3, 4, 5, 11, 17, 16, 17, 16, 15, 9, 10, 16, 10, 9, 15, 14, 15, 14]\n"
     ]
    },
    {
     "data": {
      "text/plain": [
       "array([[  4.37199265e-01,   0.00000000e+00],\n",
       "       [  3.71897954e-06,   1.00000000e+00],\n",
       "       [  2.81317681e-01,   2.00000000e+00],\n",
       "       [  6.56606717e-05,   3.00000000e+00],\n",
       "       [  4.71748899e-06,   4.00000000e+00],\n",
       "       [  5.03337242e-06,   5.00000000e+00],\n",
       "       [  1.33659299e-07,   6.00000000e+00],\n",
       "       [  2.81017661e-01,   7.00000000e+00],\n",
       "       [  2.29288531e-07,   8.00000000e+00],\n",
       "       [  1.60154325e-08,   9.00000000e+00],\n",
       "       [  4.30560021e-06,   1.00000000e+01],\n",
       "       [  2.07785502e-04,   1.10000000e+01],\n",
       "       [  3.50913353e-07,   1.20000000e+01],\n",
       "       [  5.01797076e-05,   1.30000000e+01],\n",
       "       [  5.30111029e-05,   1.40000000e+01],\n",
       "       [  9.33980346e-07,   1.50000000e+01],\n",
       "       [  5.96461359e-06,   1.60000000e+01],\n",
       "       [  1.80349318e-07,   1.70000000e+01],\n",
       "       [  1.14560827e-07,   1.80000000e+01],\n",
       "       [  2.29891884e-06,   1.90000000e+01],\n",
       "       [  4.93845037e-05,   2.00000000e+01],\n",
       "       [  1.54733095e-06,   2.10000000e+01],\n",
       "       [  4.28176001e-08,   2.20000000e+01],\n",
       "       [  9.79054676e-06,   2.30000000e+01]])"
      ]
     },
     "execution_count": 68,
     "metadata": {},
     "output_type": "execute_result"
    }
   ],
   "source": [
    "x,y = random_training_set_with_road_tar()\n",
    "print([inv_one_hot(r) for r in x.data.numpy()])\n",
    "np.concatenate([model(x)[0,:].data.numpy().reshape(24,1), \n",
    "                np.array(range(0,24)).reshape(24,1)],\n",
    "               axis = 1)"
   ]
  },
  {
   "cell_type": "code",
   "execution_count": 49,
   "metadata": {},
   "outputs": [
    {
     "data": {
      "text/plain": [
       "Variable containing:\n",
       " 2.8194\n",
       "[torch.FloatTensor of size 1]"
      ]
     },
     "execution_count": 49,
     "metadata": {},
     "output_type": "execute_result"
    }
   ],
   "source": [
    "input\n",
    "output"
   ]
  }
 ],
 "metadata": {
  "kernelspec": {
   "display_name": "TF",
   "language": "python",
   "name": "tf"
  },
  "language_info": {
   "codemirror_mode": {
    "name": "ipython",
    "version": 3
   },
   "file_extension": ".py",
   "mimetype": "text/x-python",
   "name": "python",
   "nbconvert_exporter": "python",
   "pygments_lexer": "ipython3",
   "version": "3.6.3"
  }
 },
 "nbformat": 4,
 "nbformat_minor": 2
}
