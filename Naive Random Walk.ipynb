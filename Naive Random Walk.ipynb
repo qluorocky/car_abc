{
 "cells": [
  {
   "cell_type": "code",
   "execution_count": 38,
   "metadata": {},
   "outputs": [],
   "source": [
    "import numpy as np\n",
    "import networkx as nx\n",
    "import torch\n",
    "import time\n",
    "from sklearn.preprocessing import OneHotEncoder\n",
    "from torch.autograd import Variable\n",
    "from torch import nn\n",
    "import matplotlib.pyplot as plt\n",
    "from torch import autograd\n"
   ]
  },
  {
   "cell_type": "markdown",
   "metadata": {},
   "source": [
    "In this part, we focus on a simple road map (rep as a graph below), and generate random path on it.\n",
    "<img src=\"img/naive_road.png\" alt=\"Drawing\" style=\"width: 400px;\"/>"
   ]
  },
  {
   "cell_type": "code",
   "execution_count": 40,
   "metadata": {},
   "outputs": [],
   "source": [
    "def one_hot(x, N = 24):\n",
    "    l = np.zeros(24)\n",
    "    l[x] = 1\n",
    "    return l\n",
    "def inv_one_hot(l, N = 24):\n",
    "    return np.argmax(l)"
   ]
  },
  {
   "cell_type": "code",
   "execution_count": 41,
   "metadata": {},
   "outputs": [],
   "source": [
    "def build_graph():\n",
    "    G=nx.Graph()\n",
    "    G.add_nodes_from(range(24))\n",
    "    G.add_edges_from([(i, i+1) for i in range(5)] \n",
    "                     + [(i+6, i+7) for i in range(5)] \n",
    "                     +[(i+12, i+13) for i in range(5)]\n",
    "                     + [(i+18, i+19) for i in range(5)]\n",
    "                     + [(0,6),(6,12), (12,18)]\n",
    "                     + [(pair[0]+1, pair[1]+1) for pair in [(0,6),(6,12), (12,18)]]\n",
    "                     + [(pair[0]+2, pair[1]+2) for pair in [(0,6),(6,12), (12,18)]]\n",
    "                     + [(pair[0]+3, pair[1]+3) for pair in [(0,6),(6,12), (12,18)]]\n",
    "                     + [(pair[0]+4, pair[1]+4) for pair in [(0,6),(6,12), (12,18)]]\n",
    "                     + [(pair[0]+5, pair[1]+5) for pair in [(0,6),(6,12), (12,18)]]\n",
    "                     )\n",
    "    return G"
   ]
  },
  {
   "cell_type": "code",
   "execution_count": 42,
   "metadata": {},
   "outputs": [],
   "source": [
    "# gloable env\n",
    "G = build_graph() \n",
    "N = len(G.node)"
   ]
  },
  {
   "cell_type": "code",
   "execution_count": 43,
   "metadata": {},
   "outputs": [],
   "source": [
    "def random_path(start = None, stop_prob = 0.1):\n",
    "    \"\"\"\n",
    "    Generate random path on graph G with lenght at least 2, encode each road in one-hot fashion\n",
    "    \"\"\"\n",
    "    if not start:\n",
    "        start = np.random.choice(24)\n",
    "    path = [start]\n",
    "    while True:\n",
    "        nxt = np.random.choice(list(G.neighbors(start)))\n",
    "        path.append(nxt)\n",
    "        start = nxt\n",
    "        if np.random.rand() < stop_prob:\n",
    "            break\n",
    "    return np.array(path)"
   ]
  },
  {
   "cell_type": "code",
   "execution_count": 44,
   "metadata": {},
   "outputs": [
    {
     "name": "stdout",
     "output_type": "stream",
     "text": [
      "[19 13 19]\n"
     ]
    }
   ],
   "source": [
    "p = random_path()\n",
    "print(p)"
   ]
  },
  {
   "cell_type": "code",
   "execution_count": 45,
   "metadata": {},
   "outputs": [],
   "source": [
    "def random_training_set():\n",
    "    def f(x):\n",
    "        if x == -1:\n",
    "            return 0\n",
    "        if x == -6:\n",
    "            return 1\n",
    "        if x == 1:\n",
    "            return 2\n",
    "        if x == 6:\n",
    "            return 3\n",
    "    path = random_path()\n",
    "    inp = torch.from_numpy(np.float32(np.array([one_hot(p) for p in path[:-1]])))\n",
    "    #import pdb; pdb.set_trace()\n",
    "    tar = [f(x) for x in path[1:] - path[:-1]]\n",
    "    tar = torch.from_numpy(np.array(tar))\n",
    "    return Variable(inp).contiguous(), Variable(tar).contiguous()"
   ]
  },
  {
   "cell_type": "code",
   "execution_count": 46,
   "metadata": {},
   "outputs": [],
   "source": [
    "def random_training_set_with_road_tar():\n",
    "    path = random_path()\n",
    "    inp = torch.from_numpy(np.float32(np.array([one_hot(p) for p in path[:-1]])))\n",
    "    tar = torch.from_numpy(np.array(path[1:]))\n",
    "    return Variable(inp).contiguous(), Variable(tar).contiguous()"
   ]
  },
  {
   "cell_type": "code",
   "execution_count": 47,
   "metadata": {},
   "outputs": [
    {
     "name": "stdout",
     "output_type": "stream",
     "text": [
      "x: [3, 9] is the sequence of road\n",
      "y: [3 1] denotes the turning decistion at each road\n"
     ]
    }
   ],
   "source": [
    "x,y = random_training_set()\n",
    "print('x: {} is the sequence of road'.format([inv_one_hot(r) for r in x.data.numpy()]))\n",
    "print('y: {} denotes the turning decistion at each road'.format(y.data.numpy()))"
   ]
  },
  {
   "cell_type": "code",
   "execution_count": 48,
   "metadata": {},
   "outputs": [
    {
     "name": "stdout",
     "output_type": "stream",
     "text": [
      "x: [5, 4, 10, 11, 10, 16, 10, 16, 15, 21, 22, 21, 20, 14, 8, 14, 20, 14, 13, 12, 6, 12, 6, 7] is the sequence of road\n",
      "y: [ 4 10 11 10 16 10 16 15 21 22 21 20 14  8 14 20 14 13 12  6 12  6  7 13] is the sequence of road\n"
     ]
    }
   ],
   "source": [
    "x,y = random_training_set_with_road_tar()\n",
    "print('x: {} is the sequence of road'.format([inv_one_hot(r) for r in x.data.numpy()]))\n",
    "print('y: {} is the sequence of road'.format(y.data.numpy()))"
   ]
  },
  {
   "cell_type": "code",
   "execution_count": 49,
   "metadata": {},
   "outputs": [
    {
     "data": {
      "text/plain": [
       "torch.Size([24, 24])"
      ]
     },
     "execution_count": 49,
     "metadata": {},
     "output_type": "execute_result"
    }
   ],
   "source": [
    "x.size()"
   ]
  },
  {
   "cell_type": "markdown",
   "metadata": {},
   "source": [
    "Since we know the road transition are markov (turing decision only depends on current road), let start with *none-recurrent nn* to fit our transition"
   ]
  },
  {
   "cell_type": "markdown",
   "metadata": {},
   "source": [
    "# Model and Train"
   ]
  },
  {
   "cell_type": "code",
   "execution_count": 51,
   "metadata": {},
   "outputs": [
    {
     "name": "stdout",
     "output_type": "stream",
     "text": [
      "1000 1.35124906844\n",
      "2000 1.3357147513\n",
      "3000 1.33094011676\n",
      "4000 1.326037453\n",
      "5000 1.32948846531\n",
      "6000 1.33092166299\n",
      "7000 1.32819205821\n",
      "8000 1.33024263537\n",
      "9000 1.32848140544\n",
      "10000 1.32615387911\n"
     ]
    }
   ],
   "source": [
    "N_batch, D_in, D_hidden, D_out = 50, 24, 100, 4\n",
    "model = torch.nn.Sequential(\n",
    "    torch.nn.Linear(D_in, D_hidden),\n",
    "    torch.nn.ReLU(),\n",
    "    torch.nn.Linear(D_hidden, D_out),\n",
    "    torch.nn.Softmax(dim = 1),\n",
    ")\n",
    "loss_fn = torch.nn.CrossEntropyLoss()\n",
    "learning_rate = 0.002\n",
    "optimizer = torch.optim.Adam(model.parameters(), lr=learning_rate)\n",
    "L = 0\n",
    "n = 0\n",
    "pts = {'x':[], 'y':[]}\n",
    "for t in range(1,10001):\n",
    "    x,y = random_training_set()\n",
    "    y_pred = model(x)\n",
    "    loss = loss_fn(y_pred, y)\n",
    "    L += sum(loss.data.numpy())\n",
    "    n += len(loss.data.numpy())\n",
    "    if t%1000 == 0:\n",
    "        pts['x'].append(t)\n",
    "        pts['y'].append(L/n)\n",
    "        print(t, L/n)\n",
    "        L = 0\n",
    "        n = 0\n",
    "    optimizer.zero_grad()\n",
    "    loss.backward()\n",
    "    optimizer.step()\n"
   ]
  },
  {
   "cell_type": "code",
   "execution_count": 52,
   "metadata": {},
   "outputs": [
    {
     "data": {
      "text/plain": [
       "[<matplotlib.lines.Line2D at 0x118612748>]"
      ]
     },
     "execution_count": 52,
     "metadata": {},
     "output_type": "execute_result"
    },
    {
     "data": {
      "image/png": "[encoded data removed]",
      "text/plain": [
       "<matplotlib.figure.Figure at 0x117cee128>"
      ]
     },
     "metadata": {},
     "output_type": "display_data"
    }
   ],
   "source": [
    "plt.plot(pts['x'],pts['y'])"
   ]
  },
  {
   "cell_type": "markdown",
   "metadata": {},
   "source": [
    "# Testing"
   ]
  },
  {
   "cell_type": "code",
   "execution_count": 54,
   "metadata": {},
   "outputs": [
    {
     "name": "stdout",
     "output_type": "stream",
     "text": [
      "[7, 1, 0, 1]\n"
     ]
    },
    {
     "data": {
      "text/plain": [
       "Variable containing:\n",
       " 0.2401  0.1768  0.2406  0.3425\n",
       " 0.2664  0.0012  0.2957  0.4367\n",
       " 0.0018  0.0014  0.5247  0.4722\n",
       " 0.2664  0.0012  0.2957  0.4367\n",
       "[torch.FloatTensor of size 4x4]"
      ]
     },
     "execution_count": 54,
     "metadata": {},
     "output_type": "execute_result"
    }
   ],
   "source": [
    "x,y = random_training_set()\n",
    "print([inv_one_hot(r) for r in x.data.numpy()])\n",
    "model(x)"
   ]
  }
 ],
 "metadata": {
  "kernelspec": {
   "display_name": "TF",
   "language": "python",
   "name": "tf"
  },
  "language_info": {
   "codemirror_mode": {
    "name": "ipython",
    "version": 3
   },
   "file_extension": ".py",
   "mimetype": "text/x-python",
   "name": "python",
   "nbconvert_exporter": "python",
   "pygments_lexer": "ipython3",
   "version": "3.6.3"
  }
 },
 "nbformat": 4,
 "nbformat_minor": 2
}
