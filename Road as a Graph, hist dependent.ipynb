{
 "cells": [
  {
   "cell_type": "code",
   "execution_count": 1,
   "metadata": {},
   "outputs": [],
   "source": [
    "import numpy as np\n",
    "import networkx as nx\n",
    "import torch\n",
    "import time\n",
    "from sklearn.preprocessing import OneHotEncoder\n",
    "from torch.autograd import Variable\n",
    "from torch import nn\n",
    "import matplotlib.pyplot as plt"
   ]
  },
  {
   "cell_type": "markdown",
   "metadata": {},
   "source": [
    "In this part, we focus on a simple road map (rep as a graph below), and generate random path on it.\n",
    "<img src=\"img/naive_road.png\" alt=\"Drawing\" style=\"width: 400px;\"/>"
   ]
  },
  {
   "cell_type": "code",
   "execution_count": 2,
   "metadata": {},
   "outputs": [],
   "source": [
    "def one_hot(x, N = 24):\n",
    "    l = np.zeros(24)\n",
    "    l[x] = 1\n",
    "    return l\n",
    "def inv_one_hot(l, N = 24):\n",
    "    return np.argmax(l)"
   ]
  },
  {
   "cell_type": "code",
   "execution_count": 3,
   "metadata": {},
   "outputs": [],
   "source": [
    "def build_graph():\n",
    "    G=nx.Graph()\n",
    "    G.add_nodes_from(range(24))\n",
    "    G.add_edges_from([(i, i+1) for i in range(5)] \n",
    "                     + [(i+6, i+7) for i in range(5)] \n",
    "                     +[(i+12, i+13) for i in range(5)]\n",
    "                     + [(i+18, i+19) for i in range(5)]\n",
    "                     + [(0,6),(6,12), (12,18)]\n",
    "                     + [(pair[0]+1, pair[1]+1) for pair in [(0,6),(6,12), (12,18)]]\n",
    "                     + [(pair[0]+2, pair[1]+2) for pair in [(0,6),(6,12), (12,18)]]\n",
    "                     + [(pair[0]+3, pair[1]+3) for pair in [(0,6),(6,12), (12,18)]]\n",
    "                     + [(pair[0]+4, pair[1]+4) for pair in [(0,6),(6,12), (12,18)]]\n",
    "                     + [(pair[0]+5, pair[1]+5) for pair in [(0,6),(6,12), (12,18)]]\n",
    "                     )\n",
    "    return G"
   ]
  },
  {
   "cell_type": "code",
   "execution_count": 4,
   "metadata": {},
   "outputs": [],
   "source": [
    "# gloable env\n",
    "G = build_graph() \n",
    "N = len(G.node)"
   ]
  },
  {
   "cell_type": "code",
   "execution_count": 6,
   "metadata": {},
   "outputs": [],
   "source": [
    "def random_path(start = None, stop_prob = 0.1):\n",
    "    \"\"\"\n",
    "    Generate (hist dependent) random path on graph G with lenght at least 2, encode each road in one-hot fashion\n",
    "    \"\"\"\n",
    "    if not start:\n",
    "        start = np.random.choice(24)\n",
    "    path = [start]\n",
    "    prev = None\n",
    "    while True:\n",
    "        neighbors = list(G.neighbors(start))\n",
    "        if prev:\n",
    "            neighbors.remove(prev)\n",
    "        nxt = np.random.choice(neighbors)\n",
    "        path.append(nxt)\n",
    "        prev = start\n",
    "        start = nxt\n",
    "        if np.random.rand() < stop_prob:\n",
    "            break\n",
    "    return np.array(path)"
   ]
  },
  {
   "cell_type": "code",
   "execution_count": 7,
   "metadata": {},
   "outputs": [
    {
     "name": "stdout",
     "output_type": "stream",
     "text": [
      "[0 6 0 1 2 3]\n"
     ]
    }
   ],
   "source": [
    "p = random_path()\n",
    "print(p)"
   ]
  },
  {
   "cell_type": "code",
   "execution_count": 8,
   "metadata": {},
   "outputs": [],
   "source": [
    "def random_training_set():\n",
    "    def f(x):\n",
    "        if x == -1:\n",
    "            return 0\n",
    "        if x == -6:\n",
    "            return 1\n",
    "        if x == 1:\n",
    "            return 2\n",
    "        if x == 6:\n",
    "            return 3\n",
    "    path = random_path()\n",
    "    inp = torch.from_numpy(np.float32(np.array([one_hot(p) for p in path[:-1]])))\n",
    "    #import pdb; pdb.set_trace()\n",
    "    tar = [f(x) for x in path[1:] - path[:-1]]\n",
    "    tar = torch.from_numpy(np.array(tar))\n",
    "    return Variable(inp).contiguous(), Variable(tar).contiguous()"
   ]
  },
  {
   "cell_type": "code",
   "execution_count": 75,
   "metadata": {},
   "outputs": [
    {
     "name": "stdout",
     "output_type": "stream",
     "text": [
      "x: [21, 15, 14, 8, 9, 10, 11, 5, 4, 3, 9, 8, 14, 15, 21, 20, 19] is the sequence of road\n",
      "y: [1 0 1 2 2 2 1 0 0 3 0 3 2 3 0 0 1] denotes the turning decistion at each road\n"
     ]
    }
   ],
   "source": [
    "x,y = random_training_set()\n",
    "print('x: {} is the sequence of road'.format([inv_one_hot(r) for r in x.data.numpy()]))\n",
    "print('y: {} denotes the turning decistion at each road'.format(y.data.numpy()))"
   ]
  },
  {
   "cell_type": "code",
   "execution_count": 10,
   "metadata": {},
   "outputs": [
    {
     "data": {
      "text/plain": [
       "torch.Size([3, 24])"
      ]
     },
     "execution_count": 10,
     "metadata": {},
     "output_type": "execute_result"
    }
   ],
   "source": [
    "x.size()"
   ]
  },
  {
   "cell_type": "markdown",
   "metadata": {},
   "source": [
    "Since we know the road transition are markov (turing decision only depends on current road), let start with *none-recurrent nn* to fit our transition"
   ]
  },
  {
   "cell_type": "code",
   "execution_count": 90,
   "metadata": {},
   "outputs": [
    {
     "name": "stdout",
     "output_type": "stream",
     "text": [
      "0 1.38199687004\n",
      "1000 1.34473011744\n",
      "2000 1.33546652389\n",
      "3000 1.32907759982\n",
      "4000 1.3300471223\n",
      "5000 1.32706870031\n",
      "6000 1.32754559124\n",
      "7000 1.32706234384\n",
      "8000 1.32643003994\n",
      "9000 1.32789237195\n",
      "10000 1.32457457131\n",
      "11000 1.32439737165\n",
      "12000 1.32642408127\n",
      "13000 1.32500540859\n",
      "14000 1.32431879336\n",
      "15000 1.32255000317\n",
      "16000 1.32499148512\n",
      "17000 1.32206426746\n",
      "18000 1.32000809616\n",
      "19000 1.32279704076\n",
      "20000 1.3239448579\n",
      "21000 1.32507582611\n",
      "22000 1.32032233912\n",
      "23000 1.32189218646\n",
      "24000 1.32681311917\n",
      "25000 1.32190672201\n",
      "26000 1.32372510117\n",
      "27000 1.32298129278\n",
      "28000 1.3231674248\n",
      "29000 1.32179115367\n",
      "30000 1.32208962166\n",
      "31000 1.31854408705\n",
      "32000 1.32392090499\n",
      "33000 1.32397338843\n",
      "34000 1.32184692043\n",
      "35000 1.32490998781\n",
      "36000 1.32292026985\n",
      "37000 1.32186268914\n",
      "38000 1.32240355277\n",
      "39000 1.32172858155\n"
     ]
    }
   ],
   "source": [
    "N_batch, D_in, D_hidden, D_out = 50, 24, 100, 4\n",
    "model = torch.nn.Sequential(\n",
    "    torch.nn.Linear(D_in, D_hidden),\n",
    "    torch.nn.ReLU(),\n",
    "    torch.nn.Linear(D_hidden, D_out),\n",
    "    torch.nn.Softmax(dim = 1),\n",
    ")\n",
    "loss_fn = torch.nn.CrossEntropyLoss()\n",
    "learning_rate = 0.002\n",
    "optimizer = torch.optim.Adam(model.parameters(), lr=learning_rate)\n",
    "L = 0\n",
    "n = 0\n",
    "pts = {'x':[], 'y':[]}\n",
    "for t in range(40000):\n",
    "    x,y = random_training_set()\n",
    "    y_pred = model(x)\n",
    "    loss = loss_fn(y_pred, y)\n",
    "    L += sum(loss.data.numpy())\n",
    "    n += len(loss.data.numpy())\n",
    "    if t%1000 == 0:\n",
    "        pts['x'].append(t)\n",
    "        pts['y'].append(L/n)\n",
    "        print(t, L/n)\n",
    "        L = 0\n",
    "        n = 0\n",
    "    optimizer.zero_grad()\n",
    "    loss.backward()\n",
    "    optimizer.step()\n"
   ]
  },
  {
   "cell_type": "code",
   "execution_count": 91,
   "metadata": {},
   "outputs": [
    {
     "data": {
      "text/plain": [
       "[<matplotlib.lines.Line2D at 0x118e2a8d0>]"
      ]
     },
     "execution_count": 91,
     "metadata": {},
     "output_type": "execute_result"
    },
    {
     "data": {
      "image/png": "[encoded data removed]",
      "text/plain": [
       "<matplotlib.figure.Figure at 0x118d98470>"
      ]
     },
     "metadata": {},
     "output_type": "display_data"
    }
   ],
   "source": [
    "plt.plot(pts['x'],pts['y'])"
   ]
  },
  {
   "cell_type": "code",
   "execution_count": 92,
   "metadata": {},
   "outputs": [
    {
     "name": "stdout",
     "output_type": "stream",
     "text": [
      "[8, 2, 3, 4, 10, 11, 17, 16, 22, 21, 15, 16, 17, 23, 22, 21]\n"
     ]
    },
    {
     "data": {
      "text/plain": [
       "Variable containing:\n",
       " 2.5987e-01  2.5838e-01  2.5531e-01  2.2644e-01\n",
       " 3.8750e-01  4.7785e-06  3.2027e-01  2.9222e-01\n",
       " 4.2540e-01  9.8707e-09  2.7870e-01  2.9590e-01\n",
       " 3.8976e-01  6.7869e-06  3.1812e-01  2.9211e-01\n",
       " 2.5987e-01  2.5838e-01  2.5531e-01  2.2644e-01\n",
       " 3.5742e-01  3.7158e-01  2.4004e-09  2.7100e-01\n",
       " 3.2515e-01  3.9395e-01  6.0328e-06  2.8089e-01\n",
       " 2.5987e-01  2.5838e-01  2.5531e-01  2.2644e-01\n",
       " 3.2250e-01  3.4839e-01  3.2911e-01  1.4151e-07\n",
       " 2.9624e-01  3.2365e-01  3.8012e-01  5.3860e-08\n",
       " 2.5987e-01  2.5838e-01  2.5531e-01  2.2644e-01\n",
       " 2.5987e-01  2.5838e-01  2.5531e-01  2.2644e-01\n",
       " 3.2515e-01  3.9395e-01  6.0328e-06  2.8089e-01\n",
       " 5.3123e-01  4.6867e-01  3.4848e-05  6.8151e-05\n",
       " 3.2250e-01  3.4839e-01  3.2911e-01  1.4151e-07\n",
       " 2.9624e-01  3.2365e-01  3.8012e-01  5.3860e-08\n",
       "[torch.FloatTensor of size 16x4]"
      ]
     },
     "execution_count": 92,
     "metadata": {},
     "output_type": "execute_result"
    }
   ],
   "source": [
    "x,y = random_training_set()\n",
    "print([inv_one_hot(r) for r in x.data.numpy()])\n",
    "model(x)"
   ]
  },
  {
   "cell_type": "markdown",
   "metadata": {},
   "source": [
    "Clearly, the naive nn is not enough.\n",
    "# RNN for Tracking the History"
   ]
  },
  {
   "cell_type": "code",
   "execution_count": 93,
   "metadata": {},
   "outputs": [],
   "source": [
    "class RNN(nn.Module):\n",
    "    def __init__(self, input_size, hidden_size, output_size, n_layers=1):\n",
    "        super(RNN, self).__init__()\n",
    "        self.input_size = input_size\n",
    "        self.hidden_size = hidden_size\n",
    "        self.output_size = output_size\n",
    "        self.n_layers = n_layers\n",
    "        self.gru = nn.GRU(input_size, hidden_size, n_layers)\n",
    "        self.lin = nn.Linear(hidden_size, output_size)\n",
    "        self.sm = nn.Softmax(dim = 2)\n",
    "        \n",
    "        hidden0 = torch.zeros(n_layers, 1, hidden_size)\n",
    "        self.hidden0 = nn.Parameter(hidden0, requires_grad=True)\n",
    "    \n",
    "    def forward(self, inp, hidden):\n",
    "        output, hidden = self.gru(inp.view(1, 1, self.input_size), hidden)\n",
    "        output = self.lin(output) \n",
    "        output = self.sm(output)\n",
    "        return output, hidden\n",
    "    \n",
    "    def init_hidden(self):\n",
    "        return self.hidden0\n",
    "    #def init_hidden(self):\n",
    "    #    return Variable(torch.zeros(self.n_layers, 1, self.hidden_size))"
   ]
  },
  {
   "cell_type": "code",
   "execution_count": 95,
   "metadata": {},
   "outputs": [],
   "source": [
    "def train(inp, target):\n",
    "    hidden = rnn.init_hidden() \n",
    "    rnn.zero_grad()\n",
    "    hat = []\n",
    "    for i in range(len(inp)):\n",
    "        output, hidden = rnn(inp[i,:], hidden)\n",
    "        hat.append(output.view(-1,4))\n",
    "    pred = torch.cat(hat)\n",
    "    loss = loss_fn(pred, target)\n",
    "    rnn_optimizer.zero_grad()\n",
    "    loss.backward()\n",
    "    rnn_optimizer.step()\n",
    "    return pred, loss.data[0]"
   ]
  },
  {
   "cell_type": "code",
   "execution_count": null,
   "metadata": {},
   "outputs": [
    {
     "name": "stdout",
     "output_type": "stream",
     "text": [
      "10000 1.286796221756935\n",
      "20000 1.250342443561554\n",
      "30000 1.2468998183310032\n",
      "40000 1.2425524953424931\n"
     ]
    }
   ],
   "source": [
    "N_batch, D_in, D_hidden, D_out = 50, 24, 200, 4\n",
    "rnn = RNN(D_in, D_hidden, D_out, n_layers = 1)\n",
    "loss_fn = torch.nn.CrossEntropyLoss()\n",
    "learning_rate = 0.0002\n",
    "rnn_optimizer = torch.optim.Adam(rnn.parameters(), lr=learning_rate)\n",
    "L = 0\n",
    "pts = {'x':[], 'y':[]}\n",
    "for t in range(1,400001):\n",
    "    x,y = random_training_set()\n",
    "    _, loss = train(x,y)\n",
    "    \n",
    "    L += loss\n",
    "    if t%10000 == 0:\n",
    "        pts['x'].append(t)\n",
    "        pts['y'].append(L/10000)\n",
    "        print(t, L/10000)\n",
    "        L = 0"
   ]
  },
  {
   "cell_type": "code",
   "execution_count": 97,
   "metadata": {},
   "outputs": [
    {
     "data": {
      "text/plain": [
       "[<matplotlib.lines.Line2D at 0x118ef7048>]"
      ]
     },
     "execution_count": 97,
     "metadata": {},
     "output_type": "execute_result"
    },
    {
     "data": {
      "image/png": "[encoded data removed]",
      "text/plain": [
       "<matplotlib.figure.Figure at 0x118e67e80>"
      ]
     },
     "metadata": {},
     "output_type": "display_data"
    }
   ],
   "source": [
    "plt.plot(pts['x'],pts['y'])"
   ]
  },
  {
   "cell_type": "code",
   "execution_count": null,
   "metadata": {},
   "outputs": [],
   "source": []
  },
  {
   "cell_type": "code",
   "execution_count": 98,
   "metadata": {},
   "outputs": [
    {
     "name": "stdout",
     "output_type": "stream",
     "text": [
      "[22, 16, 17, 23, 22, 16, 17, 11, 10, 9, 15, 16, 10, 4, 3, 2, 1, 7, 6, 0, 1, 0, 6, 12, 13, 19, 18, 12, 6, 7, 8, 14, 15, 16, 22, 23, 17, 11]\n",
      "Variable containing:\n",
      " 2.1104e-01  9.0629e-02  6.9567e-01  2.6628e-03\n",
      " 1.0383e-01  4.2233e-01  4.5087e-01  2.2968e-02\n",
      " 8.2987e-02  5.0665e-01  2.8708e-03  4.0749e-01\n",
      " 9.8604e-01  1.3808e-02  2.8462e-05  1.2014e-04\n",
      " 7.1212e-01  2.8621e-01  1.5340e-03  1.4206e-04\n",
      " 5.1818e-01  4.0311e-01  5.3838e-02  2.4874e-02\n",
      " 8.6271e-02  4.2569e-01  1.5410e-03  4.8650e-01\n",
      " 5.2202e-01  3.9715e-01  4.2323e-04  8.0402e-02\n",
      " 6.8441e-01  2.9236e-01  9.1618e-03  1.4060e-02\n",
      " 6.6718e-01  2.4017e-01  2.6994e-02  6.5654e-02\n",
      " 3.7689e-01  2.2492e-02  4.4010e-02  5.5661e-01\n",
      " 9.0795e-02  6.2107e-03  1.4983e-01  7.5316e-01\n",
      " 1.0358e-01  2.6989e-01  5.5247e-01  7.4064e-02\n",
      " 7.6741e-01  4.4550e-03  2.1561e-01  1.2524e-02\n",
      " 1.4138e-01  1.0053e-04  9.1181e-03  8.4940e-01\n",
      " 6.1608e-01  2.5379e-04  4.0352e-02  3.4332e-01\n",
      " 5.6980e-01  2.7443e-04  3.6375e-02  3.9355e-01\n",
      " 4.8969e-01  2.6103e-02  1.5183e-01  3.3238e-01\n",
      " 1.7132e-03  6.5244e-01  6.7538e-02  2.7831e-01\n",
      " 1.0143e-04  1.3263e-04  9.9614e-01  3.6225e-03\n",
      " 2.3274e-01  9.8487e-05  3.6279e-01  4.0436e-01\n",
      " 4.2046e-04  6.6103e-05  6.0352e-02  9.3916e-01\n",
      " 8.7025e-04  2.9888e-02  5.7134e-01  3.9790e-01\n",
      " 8.1984e-04  8.1384e-02  7.1771e-01  2.0008e-01\n",
      " 6.2260e-02  1.7459e-02  6.8403e-01  2.3625e-01\n",
      " 5.4728e-01  2.6362e-02  4.2429e-01  2.0745e-03\n",
      " 1.0969e-04  9.8656e-01  1.3319e-02  1.4337e-05\n",
      " 6.0257e-04  3.2232e-01  6.7680e-01  2.8148e-04\n",
      " 5.5237e-04  6.9816e-01  2.9029e-01  1.0999e-02\n",
      " 3.1497e-02  4.9442e-01  4.5129e-01  2.2791e-02\n",
      " 1.7381e-01  2.2359e-01  5.6335e-01  3.9250e-02\n",
      " 2.0298e-01  6.3547e-02  4.3780e-01  2.9567e-01\n",
      " 1.0534e-01  1.2130e-02  2.9456e-01  5.8797e-01\n",
      " 7.9298e-02  1.0918e-02  4.5019e-01  4.5959e-01\n",
      " 2.4227e-01  7.2861e-02  6.8215e-01  2.7144e-03\n",
      " 1.7803e-02  9.8207e-01  1.2387e-04  5.3655e-06\n",
      " 5.1595e-01  4.8348e-01  2.6827e-04  3.0104e-04\n",
      " 1.0912e-01  8.7393e-01  7.8714e-05  1.6866e-02\n",
      "[torch.FloatTensor of size 38x4]\n",
      "\n"
     ]
    }
   ],
   "source": [
    "x,y = random_training_set()\n",
    "pred,_ = train(x,y)\n",
    "print([inv_one_hot(r) for r in x.data.numpy()])\n",
    "print(pred)"
   ]
  },
  {
   "cell_type": "code",
   "execution_count": null,
   "metadata": {},
   "outputs": [],
   "source": []
  },
  {
   "cell_type": "code",
   "execution_count": null,
   "metadata": {},
   "outputs": [],
   "source": [
    "n_epochs = 1000\n",
    "print_every = 100\n",
    "#plot_every = 10\n",
    "input_size = 24 # one hot encoding for 24 node in the graph\n",
    "hidden_size = 200\n",
    "output_size = 4 #?? distriubtuion for 4 exits??\n",
    "n_layers = 2\n",
    "lr = 0.005\n",
    "\n",
    "rnn = RNN(input_size, hidden_size, output_size, n_layers)\n",
    "rnn_optimizer = torch.optim.Adam(rnn.parameters(), lr=lr)\n",
    "criterion = nn.CrossEntropyLoss()\n",
    "\n",
    "start = time.time()\n",
    "all_losses = []\n",
    "loss_avg = 0\n",
    "\n",
    "for epoch in range(1, n_epochs + 1):\n",
    "    loss = train(*random_training_set())       \n",
    "    loss_avg += loss\n",
    "\n",
    "    if epoch % print_every == 0:\n",
    "        print('[(%d %d%%) %.4f]' % (epoch, epoch / n_epochs * 100, loss))"
   ]
  },
  {
   "cell_type": "code",
   "execution_count": null,
   "metadata": {},
   "outputs": [],
   "source": [
    "def generate(start):\n",
    "    hidden = rnn.init_hidden()\n",
    "    inp = start\n",
    "    predicted = inp.data.view(1,2)\n",
    "    \n",
    "    for i in range(1, 1000):\n",
    "        output, hidden = rnn(inp, hidden)\n",
    "        predicted = torch.cat([predicted, output.data.view(1,2)])\n",
    "        inp = output\n",
    "    return predicted"
   ]
  },
  {
   "cell_type": "code",
   "execution_count": null,
   "metadata": {},
   "outputs": [],
   "source": [
    "x,y = random_training_set()"
   ]
  },
  {
   "cell_type": "code",
   "execution_count": null,
   "metadata": {},
   "outputs": [],
   "source": [
    "hidden = rnn.init_hidden()\n",
    "o,h = rnn(x[0], hidden)\n",
    "print(o)"
   ]
  },
  {
   "cell_type": "code",
   "execution_count": null,
   "metadata": {},
   "outputs": [],
   "source": [
    "from sklearn."
   ]
  }
 ],
 "metadata": {
  "kernelspec": {
   "display_name": "TF",
   "language": "python",
   "name": "tf"
  },
  "language_info": {
   "codemirror_mode": {
    "name": "ipython",
    "version": 3
   },
   "file_extension": ".py",
   "mimetype": "text/x-python",
   "name": "python",
   "nbconvert_exporter": "python",
   "pygments_lexer": "ipython3",
   "version": "3.6.3"
  }
 },
 "nbformat": 4,
 "nbformat_minor": 2
}
